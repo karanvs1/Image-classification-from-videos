{
  "cells": [
    {
      "cell_type": "markdown",
      "metadata": {},
      "source": [
        "# Read Me\n",
        "**How to run this code:**<br>\n",
        "Running this code is basically like running any iPython notebook, and then basically you run the cell sequentially.\n",
        "\n",
        "**Implimentation and architecture details:**<br>\n",
        "1. I imported MobileNetV3 small model from torchvision.models and then I changed the last layer to 9 classes.<br>\n",
        "2. **Number of Epochs**: I trained for multiple epochs and then I found that the validation accuracy was not increasing after 15 epochs, so I stopped the training at 15 epochs.<br>\n",
        "3. I would also save my Model only if the validation accuracy imporves in that epoch.\n",
        "4. I implemented Automatic Mixed Precision to speed up the training\n",
        "5. **LR Scheduler**: I implimented Reduce LR on Plateau and Cosine Annealing LR and I found that Cosine Annealing LR gave me better results.\n",
        "6. **Optimizer**: I tried SGD optimizer, which gave good results, but I found that AdamW optimizer gave me better results.\n",
        "7. **Architecture**: I experimented with ConvNeXt and Mobilenet V3 small and I found that both gave me similar results.\n",
        "8. **Hyper Parameters**: I experimented with several hyper parameters but the hyper parameters that gave met the best accauracy are the ones that are implimented in this notebook below\n",
        "9. **Data Augmentation**: I experimented with Gaussian Blur and Color Jitter for brightness becasue thats in the write up it was mentioned that, thats how the test imaged might be different from the training images.\n",
        "10. I used Image Folder Dataset to load the data and I used 80% of the data for training and 20% for validation, and wrote a custom dataset class to load the test data.\n",
        "11. **Loss Function**: I used Cross Entropy Loss as the loss function because it is a multi class classification problem.\n",
        "12. I was able to get 94.7654% validation accuracy which was the same as mobile net v3 small model oddly enough.\n",
        "13. I also ensemble ConvNeXt and MobileNetV3 small model and I got 94.8148% validation accuracy which was very slighltly better than individual models."
      ]
    },
    {
      "cell_type": "code",
      "execution_count": null,
      "metadata": {},
      "outputs": [],
      "source": [
        "# !unzip ML\\ Assessment\\ Data.zip"
      ]
    },
    {
      "cell_type": "code",
      "execution_count": 1,
      "metadata": {
        "id": "jwLEd0gdPbSc"
      },
      "outputs": [
        {
          "name": "stdout",
          "output_type": "stream",
          "text": [
            "cuda\n"
          ]
        }
      ],
      "source": [
        "import torch\n",
        "import torch.nn as nn\n",
        "import torch.nn.functional as F\n",
        "import torch.optim as optim\n",
        "from torch.utils.data import Dataset, DataLoader\n",
        "\n",
        "import torchvision\n",
        "import torchvision.transforms as ttf\n",
        "\n",
        "import os\n",
        "import os.path as osp\n",
        "\n",
        "from tqdm import tqdm\n",
        "from PIL import Image\n",
        "from sklearn.metrics import roc_auc_score\n",
        "import numpy as np\n",
        "import pandas as pd\n",
        "import matplotlib.pyplot as plt\n",
        "device = torch.device(\"cuda\" if torch.cuda.is_available() else \"cpu\")\n",
        "print(device)"
      ]
    },
    {
      "cell_type": "markdown",
      "metadata": {
        "id": "cBTLCyocZBGS"
      },
      "source": [
        "# Hyperparameters"
      ]
    },
    {
      "cell_type": "code",
      "execution_count": 2,
      "metadata": {
        "id": "13usn4nYZCvJ"
      },
      "outputs": [],
      "source": [
        "\n",
        "batch_size = 128\n",
        "lr = 0.001\n",
        "epochs = 15 "
      ]
    },
    {
      "cell_type": "markdown",
      "metadata": {
        "id": "mIqmojPaWD0H"
      },
      "source": [
        "# ConvNeXt Block and Model Architecture Class Definition"
      ]
    },
    {
      "cell_type": "code",
      "execution_count": 3,
      "metadata": {
        "id": "u-FRq2eFbgwX"
      },
      "outputs": [],
      "source": [
        "#Block class for ConvNext \n",
        "class Block(nn.Module):\n",
        "    def __init__(self, in_channels):\n",
        "        super().__init__()\n",
        "        '''\n",
        "        in_channels: number of input channels\n",
        "        '''\n",
        "        #depthwise convolution\n",
        "        self.dwconv = nn.Conv2d(in_channels, in_channels, kernel_size=7, padding=3, groups=in_channels)\n",
        "        self.bn = nn.BatchNorm2d(in_channels)\n",
        "        #point wise convolution\n",
        "        self.pwconv1 = nn.Conv2d(in_channels, 4 * in_channels, kernel_size=1, stride=1)\n",
        "        self.act = nn.GELU()\n",
        "        self.pwconv2 = nn.Conv2d(4 * in_channels, in_channels, kernel_size=1, stride=1)\n",
        "\n",
        "\n",
        "    def forward(self, x):\n",
        "        '''\n",
        "        x: input tensor\n",
        "        return: output tensor\n",
        "        '''\n",
        "        input = x\n",
        "        out = self.dwconv(x)\n",
        "        out = self.bn(out)\n",
        "        out = self.pwconv1(out)\n",
        "        out = self.act(out)\n",
        "        out = self.pwconv2(out)\n",
        "        out = input + out\n",
        "        return out"
      ]
    },
    {
      "cell_type": "code",
      "execution_count": 4,
      "metadata": {
        "id": "QQM0US4qbnLl"
      },
      "outputs": [],
      "source": [
        "#ConvNext class\n",
        "class ConvNext(nn.Module):\n",
        "    def __init__(self, in_channels, num_classes = 7000, depths = [3, 3, 9, 3], dims = [96, 192, 384, 758]):\n",
        "        super().__init__()\n",
        "        '''\n",
        "        in_channels: number of input channels\n",
        "        num_classes: number of classes\n",
        "        depths: number of blocks in each down sample layer\n",
        "        dims: number of channels in each down sample layer\n",
        "        '''\n",
        "        self.down_sample_layers = nn.ModuleList()\n",
        "        stem = nn.Sequential(nn.Conv2d(in_channels, dims[0], kernel_size=4, stride=4),\n",
        "                                nn.BatchNorm2d(dims[0])\n",
        "                                )\n",
        "        self.down_sample_layers.append(stem)\n",
        "        #3 down sample layers\n",
        "        for i in range(3):\n",
        "            downsample_layer = nn.Sequential(\n",
        "                nn.BatchNorm2d(dims[i]),\n",
        "                nn.Conv2d(dims[i], dims[i+1], kernel_size=2, stride=2))\n",
        "            self.down_sample_layers.append(downsample_layer)\n",
        "            \n",
        "        self.block_layers = nn.ModuleList()\n",
        "        #4 stages of blocks\n",
        "        for i in range(4):\n",
        "            blocks = nn.ModuleList()\n",
        "            # blocks = []\n",
        "            for j in range(depths[i]):\n",
        "                block = Block(dims[i])\n",
        "                blocks.append(block)\n",
        "            self.block_layers.append(nn.Sequential(*blocks))\n",
        "        #1 final layer classification layer\n",
        "        self.norm = nn.BatchNorm2d(dims[-1])\n",
        "        self.classifier = nn.Linear(dims[-1], num_classes)\n",
        "\n",
        "    def forward(self, x):\n",
        "        '''\n",
        "        x: input tensor\n",
        "        return: output tensor\n",
        "        '''\n",
        "        #4 down sample layers\n",
        "        for i in range(4):\n",
        "            x = self.down_sample_layers[i](x)\n",
        "            x = self.block_layers[i](x) \n",
        "        #finall layer\n",
        "        x = self.norm(x)\n",
        "        x = F.adaptive_avg_pool2d(x, 1)\n",
        "        feats = x.view(x.size(0), -1)\n",
        "        x = self.classifier(feats)\n",
        "        return x\n",
        "    "
      ]
    },
    {
      "cell_type": "markdown",
      "metadata": {
        "id": "NwYR-CLwX09u"
      },
      "source": [
        "# Dataset & DataLoader"
      ]
    },
    {
      "cell_type": "code",
      "execution_count": 5,
      "metadata": {
        "colab": {
          "base_uri": "https://localhost:8080/"
        },
        "id": "awE5BxlqX2o7",
        "outputId": "59da20bd-9fef-4b55-d28d-9ce3563b5e5a"
      },
      "outputs": [],
      "source": [
        "# Data directory \n",
        "TRAIN_DIR = 'train/'\n",
        "VAL_DIR = 'val/'\n",
        "TEST_DIR = 'test/'\n",
        "\n",
        "# Data augmentation for training\n",
        "train_transforms = [\n",
        "        ttf.ColorJitter(brightness=(0.5, 1.5)),\n",
        "        # ttf.GaussianBlur(7, sigma=(0.1, 2.0)),\n",
        "        ttf.Resize((500, 600)),\n",
        "        ttf.CenterCrop(300),\n",
        "        ttf.ToTensor(),  # Finally converts PIL image to tensor so we can train w. pytorch\n",
        "\n",
        "        ]\n",
        "\n",
        "# Data augmentation for validation\n",
        "val_transforms = [\n",
        "                ttf.Resize((500, 600)),\n",
        "                ttf.CenterCrop(300),\n",
        "                ttf.ToTensor()]\n",
        "\n",
        "# Dataset class for training and validation\n",
        "train_dataset = torchvision.datasets.ImageFolder(TRAIN_DIR,\n",
        "                                                 transform=ttf.Compose(train_transforms))\n",
        "val_dataset = torchvision.datasets.ImageFolder(VAL_DIR,\n",
        "                                               transform=ttf.Compose(val_transforms))\n",
        "\n",
        "# Dataloader for training and validation\n",
        "train_loader = DataLoader(train_dataset, batch_size=batch_size,\n",
        "                          shuffle=True, drop_last=True, num_workers=4, pin_memory=True)\n",
        "val_loader = DataLoader(val_dataset, batch_size=batch_size, shuffle=False,\n",
        "                        drop_last=True, num_workers=4, pin_memory=True)"
      ]
    },
    {
      "cell_type": "code",
      "execution_count": 6,
      "metadata": {},
      "outputs": [
        {
          "name": "stdout",
          "output_type": "stream",
          "text": [
            "{0: '2.0 mm x26 mm', 1: '2.0 mm x28 mm', 2: '2.8 mm x22 mm', 3: '3.5 mm x19 mm', 4: '3.5 mm x22 mm', 5: '3.5 mm x28 mm', 6: '3.5 mm x30 mm', 7: '4.2 mm x22 mm', 8: '4.2 mm x30 mm'}\n",
            "Class name:  2.0 mm x26 mm\n"
          ]
        },
        {
          "data": {
            "image/png": "[encoded data removed]",
            "text/plain": [
              "<Figure size 640x480 with 1 Axes>"
            ]
          },
          "metadata": {},
          "output_type": "display_data"
        }
      ],
      "source": [
        "# dataset to class names\n",
        "class_to_idx = train_dataset.class_to_idx\n",
        "# index to class names mapping\n",
        "idx_to_class = {v: k[0]+'.'+ k[1] + ' mm ' + k[2:]+ ' mm'for k, v in class_to_idx.items()}\n",
        "print(idx_to_class)\n",
        "numb_classes = len(train_dataset.classes)\n",
        "\n",
        "# display some images\n",
        "def imshow(img):\n",
        "    '''\n",
        "    Display an image\n",
        "    img: tensor image\n",
        "    '''\n",
        "    npimg = img.numpy()\n",
        "    plt.imshow(np.transpose(npimg, (1, 2, 0)))\n",
        "    plt.show()\n",
        "\n",
        "# print some random training images\n",
        "for img, label in val_loader:\n",
        "    label = label[0]\n",
        "    # map label to class name\n",
        "    print('Class name: ', idx_to_class[label.item()])\n",
        "    imshow(img[0])\n",
        "    break\n"
      ]
    },
    {
      "cell_type": "code",
      "execution_count": 16,
      "metadata": {},
      "outputs": [],
      "source": [
        "# draw a bar chart of the number of images per class\n",
        "def draw_bar_chart(dataset):\n",
        "    '''\n",
        "    Draw a bar chart of the number of images per class\n",
        "    dataset: dataset\n",
        "    '''\n",
        "    class_count = [0] * len(dataset.classes)\n",
        "    for _, label in dataset:\n",
        "        class_count[label] += 1\n",
        "    plt.bar(range(len(dataset.classes)), class_count)\n",
        "    plt.xlabel('Class')\n",
        "    plt.ylabel('Number of images')\n",
        "    plt.show()"
      ]
    },
    {
      "cell_type": "code",
      "execution_count": 17,
      "metadata": {},
      "outputs": [
        {
          "data": {
            "image/png": "[encoded data removed]",
            "text/plain": [
              "<Figure size 640x480 with 1 Axes>"
            ]
          },
          "metadata": {},
          "output_type": "display_data"
        }
      ],
      "source": [
        "# draw bar chart for training dataset\n",
        "draw_bar_chart(train_dataset)"
      ]
    },
    {
      "cell_type": "code",
      "execution_count": 18,
      "metadata": {},
      "outputs": [
        {
          "data": {
            "image/png": "[encoded data removed]",
            "text/plain": [
              "<Figure size 640x480 with 1 Axes>"
            ]
          },
          "metadata": {},
          "output_type": "display_data"
        }
      ],
      "source": [
        "# draw bar chart for validation dataset\n",
        "draw_bar_chart(val_dataset)"
      ]
    },
    {
      "cell_type": "markdown",
      "metadata": {
        "id": "KZCn0qHuZRKj"
      },
      "source": [
        "# Setup everything for training"
      ]
    },
    {
      "cell_type": "code",
      "execution_count": 7,
      "metadata": {
        "colab": {
          "base_uri": "https://localhost:8080/"
        },
        "id": "UowI9OcUYPjP",
        "outputId": "a1f6dc8c-507b-46fe-f846-aea389eac014"
      },
      "outputs": [
        {
          "name": "stdout",
          "output_type": "stream",
          "text": [
            "----------------------------------------------------------------\n",
            "        Layer (type)               Output Shape         Param #\n",
            "================================================================\n",
            "            Conv2d-1           [-1, 96, 75, 75]           4,704\n",
            "       BatchNorm2d-2           [-1, 96, 75, 75]             192\n",
            "            Conv2d-3           [-1, 96, 75, 75]           4,800\n",
            "       BatchNorm2d-4           [-1, 96, 75, 75]             192\n",
            "            Conv2d-5          [-1, 384, 75, 75]          37,248\n",
            "              GELU-6          [-1, 384, 75, 75]               0\n",
            "            Conv2d-7           [-1, 96, 75, 75]          36,960\n",
            "             Block-8           [-1, 96, 75, 75]               0\n",
            "            Conv2d-9           [-1, 96, 75, 75]           4,800\n",
            "      BatchNorm2d-10           [-1, 96, 75, 75]             192\n",
            "           Conv2d-11          [-1, 384, 75, 75]          37,248\n",
            "             GELU-12          [-1, 384, 75, 75]               0\n",
            "           Conv2d-13           [-1, 96, 75, 75]          36,960\n",
            "            Block-14           [-1, 96, 75, 75]               0\n",
            "           Conv2d-15           [-1, 96, 75, 75]           4,800\n",
            "      BatchNorm2d-16           [-1, 96, 75, 75]             192\n",
            "           Conv2d-17          [-1, 384, 75, 75]          37,248\n",
            "             GELU-18          [-1, 384, 75, 75]               0\n",
            "           Conv2d-19           [-1, 96, 75, 75]          36,960\n",
            "            Block-20           [-1, 96, 75, 75]               0\n",
            "      BatchNorm2d-21           [-1, 96, 75, 75]             192\n",
            "           Conv2d-22          [-1, 192, 37, 37]          73,920\n",
            "           Conv2d-23          [-1, 192, 37, 37]           9,600\n",
            "      BatchNorm2d-24          [-1, 192, 37, 37]             384\n",
            "           Conv2d-25          [-1, 768, 37, 37]         148,224\n",
            "             GELU-26          [-1, 768, 37, 37]               0\n",
            "           Conv2d-27          [-1, 192, 37, 37]         147,648\n",
            "            Block-28          [-1, 192, 37, 37]               0\n",
            "           Conv2d-29          [-1, 192, 37, 37]           9,600\n",
            "      BatchNorm2d-30          [-1, 192, 37, 37]             384\n",
            "           Conv2d-31          [-1, 768, 37, 37]         148,224\n",
            "             GELU-32          [-1, 768, 37, 37]               0\n",
            "           Conv2d-33          [-1, 192, 37, 37]         147,648\n",
            "            Block-34          [-1, 192, 37, 37]               0\n",
            "           Conv2d-35          [-1, 192, 37, 37]           9,600\n",
            "      BatchNorm2d-36          [-1, 192, 37, 37]             384\n",
            "           Conv2d-37          [-1, 768, 37, 37]         148,224\n",
            "             GELU-38          [-1, 768, 37, 37]               0\n",
            "           Conv2d-39          [-1, 192, 37, 37]         147,648\n",
            "            Block-40          [-1, 192, 37, 37]               0\n",
            "      BatchNorm2d-41          [-1, 192, 37, 37]             384\n",
            "           Conv2d-42          [-1, 384, 18, 18]         295,296\n",
            "           Conv2d-43          [-1, 384, 18, 18]          19,200\n",
            "      BatchNorm2d-44          [-1, 384, 18, 18]             768\n",
            "           Conv2d-45         [-1, 1536, 18, 18]         591,360\n",
            "             GELU-46         [-1, 1536, 18, 18]               0\n",
            "           Conv2d-47          [-1, 384, 18, 18]         590,208\n",
            "            Block-48          [-1, 384, 18, 18]               0\n",
            "           Conv2d-49          [-1, 384, 18, 18]          19,200\n",
            "      BatchNorm2d-50          [-1, 384, 18, 18]             768\n",
            "           Conv2d-51         [-1, 1536, 18, 18]         591,360\n",
            "             GELU-52         [-1, 1536, 18, 18]               0\n",
            "           Conv2d-53          [-1, 384, 18, 18]         590,208\n",
            "            Block-54          [-1, 384, 18, 18]               0\n",
            "           Conv2d-55          [-1, 384, 18, 18]          19,200\n",
            "      BatchNorm2d-56          [-1, 384, 18, 18]             768\n",
            "           Conv2d-57         [-1, 1536, 18, 18]         591,360\n",
            "             GELU-58         [-1, 1536, 18, 18]               0\n",
            "           Conv2d-59          [-1, 384, 18, 18]         590,208\n",
            "            Block-60          [-1, 384, 18, 18]               0\n",
            "           Conv2d-61          [-1, 384, 18, 18]          19,200\n",
            "      BatchNorm2d-62          [-1, 384, 18, 18]             768\n",
            "           Conv2d-63         [-1, 1536, 18, 18]         591,360\n",
            "             GELU-64         [-1, 1536, 18, 18]               0\n",
            "           Conv2d-65          [-1, 384, 18, 18]         590,208\n",
            "            Block-66          [-1, 384, 18, 18]               0\n",
            "           Conv2d-67          [-1, 384, 18, 18]          19,200\n",
            "      BatchNorm2d-68          [-1, 384, 18, 18]             768\n",
            "           Conv2d-69         [-1, 1536, 18, 18]         591,360\n",
            "             GELU-70         [-1, 1536, 18, 18]               0\n",
            "           Conv2d-71          [-1, 384, 18, 18]         590,208\n",
            "            Block-72          [-1, 384, 18, 18]               0\n",
            "           Conv2d-73          [-1, 384, 18, 18]          19,200\n",
            "      BatchNorm2d-74          [-1, 384, 18, 18]             768\n",
            "           Conv2d-75         [-1, 1536, 18, 18]         591,360\n",
            "             GELU-76         [-1, 1536, 18, 18]               0\n",
            "           Conv2d-77          [-1, 384, 18, 18]         590,208\n",
            "            Block-78          [-1, 384, 18, 18]               0\n",
            "           Conv2d-79          [-1, 384, 18, 18]          19,200\n",
            "      BatchNorm2d-80          [-1, 384, 18, 18]             768\n",
            "           Conv2d-81         [-1, 1536, 18, 18]         591,360\n",
            "             GELU-82         [-1, 1536, 18, 18]               0\n",
            "           Conv2d-83          [-1, 384, 18, 18]         590,208\n",
            "            Block-84          [-1, 384, 18, 18]               0\n",
            "           Conv2d-85          [-1, 384, 18, 18]          19,200\n",
            "      BatchNorm2d-86          [-1, 384, 18, 18]             768\n",
            "           Conv2d-87         [-1, 1536, 18, 18]         591,360\n",
            "             GELU-88         [-1, 1536, 18, 18]               0\n",
            "           Conv2d-89          [-1, 384, 18, 18]         590,208\n",
            "            Block-90          [-1, 384, 18, 18]               0\n",
            "           Conv2d-91          [-1, 384, 18, 18]          19,200\n",
            "      BatchNorm2d-92          [-1, 384, 18, 18]             768\n",
            "           Conv2d-93         [-1, 1536, 18, 18]         591,360\n",
            "             GELU-94         [-1, 1536, 18, 18]               0\n",
            "           Conv2d-95          [-1, 384, 18, 18]         590,208\n",
            "            Block-96          [-1, 384, 18, 18]               0\n",
            "      BatchNorm2d-97          [-1, 384, 18, 18]             768\n",
            "           Conv2d-98            [-1, 758, 9, 9]       1,165,046\n",
            "           Conv2d-99            [-1, 758, 9, 9]          37,900\n",
            "     BatchNorm2d-100            [-1, 758, 9, 9]           1,516\n",
            "          Conv2d-101           [-1, 3032, 9, 9]       2,301,288\n",
            "            GELU-102           [-1, 3032, 9, 9]               0\n",
            "          Conv2d-103            [-1, 758, 9, 9]       2,299,014\n",
            "           Block-104            [-1, 758, 9, 9]               0\n",
            "          Conv2d-105            [-1, 758, 9, 9]          37,900\n",
            "     BatchNorm2d-106            [-1, 758, 9, 9]           1,516\n",
            "          Conv2d-107           [-1, 3032, 9, 9]       2,301,288\n",
            "            GELU-108           [-1, 3032, 9, 9]               0\n",
            "          Conv2d-109            [-1, 758, 9, 9]       2,299,014\n",
            "           Block-110            [-1, 758, 9, 9]               0\n",
            "          Conv2d-111            [-1, 758, 9, 9]          37,900\n",
            "     BatchNorm2d-112            [-1, 758, 9, 9]           1,516\n",
            "          Conv2d-113           [-1, 3032, 9, 9]       2,301,288\n",
            "            GELU-114           [-1, 3032, 9, 9]               0\n",
            "          Conv2d-115            [-1, 758, 9, 9]       2,299,014\n",
            "           Block-116            [-1, 758, 9, 9]               0\n",
            "     BatchNorm2d-117            [-1, 758, 9, 9]           1,516\n",
            "          Linear-118                    [-1, 9]           6,831\n",
            "================================================================\n",
            "Total params: 27,436,995\n",
            "Trainable params: 27,436,995\n",
            "Non-trainable params: 0\n",
            "----------------------------------------------------------------\n",
            "Input size (MB): 1.03\n",
            "Forward/backward pass size (MB): 359.09\n",
            "Params size (MB): 104.66\n",
            "Estimated Total Size (MB): 464.79\n",
            "----------------------------------------------------------------\n",
            "None\n"
          ]
        }
      ],
      "source": [
        "# model definition\n",
        "convnext = ConvNext(3, num_classes = numb_classes, depths = [3, 3, 9, 3], dims = [96, 192, 384, 758])\n",
        "convnext.to(device)\n",
        "\n",
        "# define loss function and optimizer and scheduler for training\n",
        "criterion = nn.CrossEntropyLoss(label_smoothing=0.2)\n",
        "optimizer = optim.AdamW(convnext.parameters(), lr=lr, weight_decay=1e-4)\n",
        "scheduler = optim.lr_scheduler.CosineAnnealingLR(optimizer, T_max=(len(train_loader) * epochs))\n",
        "scaler = torch.cuda.amp.GradScaler()\n",
        "\n",
        "from torchsummary import summary\n",
        "print(summary(convnext, (3, 300, 300)))"
      ]
    },
    {
      "cell_type": "markdown",
      "metadata": {
        "id": "dzM11HtcboYv"
      },
      "source": [
        "# Let's train!"
      ]
    },
    {
      "cell_type": "code",
      "execution_count": 8,
      "metadata": {
        "id": "tApw9bJJqD1X"
      },
      "outputs": [],
      "source": [
        "# initialize lists to store training and validation loss and accuracy\n",
        "val_max = 0"
      ]
    },
    {
      "cell_type": "code",
      "execution_count": 9,
      "metadata": {},
      "outputs": [],
      "source": [
        "# parameters to keep track of training\n",
        "train_losses = []\n",
        "val_losses = []\n",
        "train_accs = []\n",
        "val_accs = []"
      ]
    },
    {
      "cell_type": "code",
      "execution_count": 10,
      "metadata": {
        "colab": {
          "background_save": true,
          "base_uri": "https://localhost:8080/"
        },
        "id": "JrChwbscbYkj",
        "outputId": "3cc52d0e-e6cf-41b8-9d91-0a535b0a004e"
      },
      "outputs": [
        {
          "name": "stderr",
          "output_type": "stream",
          "text": [
            "                                                                                                                          \r"
          ]
        },
        {
          "name": "stdout",
          "output_type": "stream",
          "text": [
            "Epoch 1/15: Train Acc 18.7996%, Train Loss 2.2354, Learning Rate 0.0009890738003669\n"
          ]
        },
        {
          "name": "stderr",
          "output_type": "stream",
          "text": [
            "                                                                  \r"
          ]
        },
        {
          "name": "stdout",
          "output_type": "stream",
          "text": [
            "Validation Accuracy: 24.4938% Validation Loss: 2.0855\n",
            "Saving model with validation accuracy 24.4938%\n"
          ]
        },
        {
          "name": "stderr",
          "output_type": "stream",
          "text": [
            "                                                                                                                          \r"
          ]
        },
        {
          "name": "stdout",
          "output_type": "stream",
          "text": [
            "Epoch 2/15: Train Acc 34.3750%, Train Loss 1.9358, Learning Rate 0.0009567727288213\n"
          ]
        },
        {
          "name": "stderr",
          "output_type": "stream",
          "text": [
            "                                                                  \r"
          ]
        },
        {
          "name": "stdout",
          "output_type": "stream",
          "text": [
            "Validation Accuracy: 38.9136% Validation Loss: 1.8503\n",
            "Saving model with validation accuracy 38.9136%\n"
          ]
        },
        {
          "name": "stderr",
          "output_type": "stream",
          "text": [
            "                                                                                                                          \r"
          ]
        },
        {
          "name": "stdout",
          "output_type": "stream",
          "text": [
            "Epoch 3/15: Train Acc 57.0437%, Train Loss 1.5983, Learning Rate 0.0009045084971875\n"
          ]
        },
        {
          "name": "stderr",
          "output_type": "stream",
          "text": [
            "                                                                  \r"
          ]
        },
        {
          "name": "stdout",
          "output_type": "stream",
          "text": [
            "Validation Accuracy: 52.9383% Validation Loss: 1.6473\n",
            "Saving model with validation accuracy 52.9383%\n"
          ]
        },
        {
          "name": "stderr",
          "output_type": "stream",
          "text": [
            "                                                                                                                          \r"
          ]
        },
        {
          "name": "stdout",
          "output_type": "stream",
          "text": [
            "Epoch 4/15: Train Acc 79.8611%, Train Loss 1.2687, Learning Rate 0.0008345653031794\n"
          ]
        },
        {
          "name": "stderr",
          "output_type": "stream",
          "text": [
            "                                                                  \r"
          ]
        },
        {
          "name": "stdout",
          "output_type": "stream",
          "text": [
            "Validation Accuracy: 73.2840% Validation Loss: 1.3053\n",
            "Saving model with validation accuracy 73.2840%\n"
          ]
        },
        {
          "name": "stderr",
          "output_type": "stream",
          "text": [
            "                                                                                                                          \r"
          ]
        },
        {
          "name": "stdout",
          "output_type": "stream",
          "text": [
            "Epoch 5/15: Train Acc 92.4727%, Train Loss 1.0779, Learning Rate 0.0007500000000000\n"
          ]
        },
        {
          "name": "stderr",
          "output_type": "stream",
          "text": [
            "                                                                  \r"
          ]
        },
        {
          "name": "stdout",
          "output_type": "stream",
          "text": [
            "Validation Accuracy: 91.4568% Validation Loss: 1.0156\n",
            "Saving model with validation accuracy 91.4568%\n"
          ]
        },
        {
          "name": "stderr",
          "output_type": "stream",
          "text": [
            "                                                                                                                          \r"
          ]
        },
        {
          "name": "stdout",
          "output_type": "stream",
          "text": [
            "Epoch 6/15: Train Acc 98.3383%, Train Loss 0.9491, Learning Rate 0.0006545084971875\n"
          ]
        },
        {
          "name": "stderr",
          "output_type": "stream",
          "text": [
            "                                                                  \r"
          ]
        },
        {
          "name": "stdout",
          "output_type": "stream",
          "text": [
            "Validation Accuracy: 94.1235% Validation Loss: 0.9218\n",
            "Saving model with validation accuracy 94.1235%\n"
          ]
        },
        {
          "name": "stderr",
          "output_type": "stream",
          "text": [
            "                                                                                                                          \r"
          ]
        },
        {
          "name": "stdout",
          "output_type": "stream",
          "text": [
            "Epoch 7/15: Train Acc 99.6032%, Train Loss 0.9016, Learning Rate 0.0005522642316338\n"
          ]
        },
        {
          "name": "stderr",
          "output_type": "stream",
          "text": [
            " 47%|████▋     | 7/15 [26:39<30:01, 225.16s/it]                   "
          ]
        },
        {
          "name": "stdout",
          "output_type": "stream",
          "text": [
            "Validation Accuracy: 94.1235% Validation Loss: 0.9043\n"
          ]
        },
        {
          "name": "stderr",
          "output_type": "stream",
          "text": [
            "                                                                                                                          \r"
          ]
        },
        {
          "name": "stdout",
          "output_type": "stream",
          "text": [
            "Epoch 8/15: Train Acc 99.9380%, Train Loss 0.8766, Learning Rate 0.0004477357683662\n"
          ]
        },
        {
          "name": "stderr",
          "output_type": "stream",
          "text": [
            "                                                                  \r"
          ]
        },
        {
          "name": "stdout",
          "output_type": "stream",
          "text": [
            "Validation Accuracy: 94.6173% Validation Loss: 0.8761\n",
            "Saving model with validation accuracy 94.6173%\n"
          ]
        },
        {
          "name": "stderr",
          "output_type": "stream",
          "text": [
            "                                                                                                                           \r"
          ]
        },
        {
          "name": "stdout",
          "output_type": "stream",
          "text": [
            "Epoch 9/15: Train Acc 99.9876%, Train Loss 0.8658, Learning Rate 0.0003454915028125\n"
          ]
        },
        {
          "name": "stderr",
          "output_type": "stream",
          "text": [
            "                                                                   \r"
          ]
        },
        {
          "name": "stdout",
          "output_type": "stream",
          "text": [
            "Validation Accuracy: 94.7160% Validation Loss: 0.8659\n",
            "Saving model with validation accuracy 94.7160%\n"
          ]
        },
        {
          "name": "stderr",
          "output_type": "stream",
          "text": [
            "                                                                                                                           \r"
          ]
        },
        {
          "name": "stdout",
          "output_type": "stream",
          "text": [
            "Epoch 10/15: Train Acc 100.0000%, Train Loss 0.8593, Learning Rate 0.0002500000000000\n"
          ]
        },
        {
          "name": "stderr",
          "output_type": "stream",
          "text": [
            " 67%|██████▋   | 10/15 [37:50<18:40, 224.03s/it]                   "
          ]
        },
        {
          "name": "stdout",
          "output_type": "stream",
          "text": [
            "Validation Accuracy: 94.7160% Validation Loss: 0.8602\n"
          ]
        },
        {
          "name": "stderr",
          "output_type": "stream",
          "text": [
            "                                                                                                                           \r"
          ]
        },
        {
          "name": "stdout",
          "output_type": "stream",
          "text": [
            "Epoch 11/15: Train Acc 100.0000%, Train Loss 0.8545, Learning Rate 0.0001654346968206\n"
          ]
        },
        {
          "name": "stderr",
          "output_type": "stream",
          "text": [
            " 73%|███████▎  | 11/15 [41:34<14:55, 223.84s/it]                   "
          ]
        },
        {
          "name": "stdout",
          "output_type": "stream",
          "text": [
            "Validation Accuracy: 94.7160% Validation Loss: 0.8579\n"
          ]
        },
        {
          "name": "stderr",
          "output_type": "stream",
          "text": [
            "                                                                                                                           \r"
          ]
        },
        {
          "name": "stdout",
          "output_type": "stream",
          "text": [
            "Epoch 12/15: Train Acc 100.0000%, Train Loss 0.8522, Learning Rate 0.0000954915028125\n"
          ]
        },
        {
          "name": "stderr",
          "output_type": "stream",
          "text": [
            "                                                                   \r"
          ]
        },
        {
          "name": "stdout",
          "output_type": "stream",
          "text": [
            "Validation Accuracy: 94.7654% Validation Loss: 0.8536\n",
            "Saving model with validation accuracy 94.7654%\n"
          ]
        },
        {
          "name": "stderr",
          "output_type": "stream",
          "text": [
            "                                                                                                                           \r"
          ]
        },
        {
          "name": "stdout",
          "output_type": "stream",
          "text": [
            "Epoch 13/15: Train Acc 100.0000%, Train Loss 0.8506, Learning Rate 0.0000432272711787\n"
          ]
        },
        {
          "name": "stderr",
          "output_type": "stream",
          "text": [
            " 87%|████████▋ | 13/15 [49:00<07:26, 223.46s/it]                   "
          ]
        },
        {
          "name": "stdout",
          "output_type": "stream",
          "text": [
            "Validation Accuracy: 94.7160% Validation Loss: 0.8528\n"
          ]
        },
        {
          "name": "stderr",
          "output_type": "stream",
          "text": [
            "                                                                                                                           \r"
          ]
        },
        {
          "name": "stdout",
          "output_type": "stream",
          "text": [
            "Epoch 14/15: Train Acc 100.0000%, Train Loss 0.8498, Learning Rate 0.0000109261996331\n"
          ]
        },
        {
          "name": "stderr",
          "output_type": "stream",
          "text": [
            " 93%|█████████▎| 14/15 [52:44<03:43, 223.47s/it]                   "
          ]
        },
        {
          "name": "stdout",
          "output_type": "stream",
          "text": [
            "Validation Accuracy: 94.7160% Validation Loss: 0.8525\n"
          ]
        },
        {
          "name": "stderr",
          "output_type": "stream",
          "text": [
            "                                                                                                                           \r"
          ]
        },
        {
          "name": "stdout",
          "output_type": "stream",
          "text": [
            "Epoch 15/15: Train Acc 100.0000%, Train Loss 0.8493, Learning Rate 0.0000000000000000\n"
          ]
        },
        {
          "name": "stderr",
          "output_type": "stream",
          "text": [
            "100%|██████████| 15/15 [56:27<00:00, 225.82s/it]                   "
          ]
        },
        {
          "name": "stdout",
          "output_type": "stream",
          "text": [
            "Validation Accuracy: 94.7160% Validation Loss: 0.8522\n"
          ]
        },
        {
          "name": "stderr",
          "output_type": "stream",
          "text": [
            "\n"
          ]
        }
      ],
      "source": [
        "# Training loop\n",
        "for epoch in tqdm(range(epochs)):\n",
        "    convnext.train()\n",
        "    batch_bar = tqdm(total=len(train_loader), dynamic_ncols=True, leave=False, position=0, desc='Train') \n",
        "\n",
        "    # initialize variables to store training loss and accuracy\n",
        "    num_correct = 0\n",
        "    total_loss = 0\n",
        "\n",
        "    for i, (x, y) in enumerate(train_loader):\n",
        "        optimizer.zero_grad()\n",
        "\n",
        "        x = x.cuda()\n",
        "        y = y.cuda()\n",
        "\n",
        "        # Mixed precision training for faster training\n",
        "        with torch.cuda.amp.autocast():     \n",
        "            outputs = convnext(x)\n",
        "            loss = criterion(outputs, y)\n",
        "\n",
        "        # Update # correct & loss as we go\n",
        "        num_correct += int((torch.argmax(outputs, axis=1) == y).sum())\n",
        "        total_loss += float(loss)\n",
        "\n",
        "        train_acc = 100 * num_correct / ((i + 1) * batch_size)\n",
        "        train_loss = float(total_loss / (i + 1))\n",
        "        # tqdm lets you add some details so you can monitor training as you train.\n",
        "        batch_bar.set_postfix(\n",
        "            acc=\"{:.04f}%\".format(train_acc),\n",
        "            loss=\"{:.04f}\".format(train_loss),\n",
        "            num_correct=num_correct,\n",
        "            lr=\"{:.16f}\".format(float(optimizer.param_groups[0]['lr'])))\n",
        "        \n",
        "        # Backprop and update weights with mixed precision\n",
        "        scaler.scale(loss).backward() # This is a replacement for loss.backward() with mixed precision\n",
        "        scaler.step(optimizer) # This is a replacement for optimizer.step() with mixed precision\n",
        "        scaler.update() # This is something added just for FP16 support, for mixed precision training\n",
        "\n",
        "        scheduler.step() # We told scheduler T_max that we'd call step() (len(train_loader) * epochs) many times.\n",
        "\n",
        "        batch_bar.update() # Update tqdm bar\n",
        "    batch_bar.close() # need this to close the tqdm bar\n",
        "\n",
        "    # Print some metrics\n",
        "    train_acc = 100 * num_correct / (len(train_loader) * batch_size)\n",
        "    train_loss = float(total_loss / len(train_loader))\n",
        "    train_losses.append(train_loss)\n",
        "    train_accs.append(train_acc)\n",
        "    print(\"Epoch {}/{}: Train Acc {:.04f}%, Train Loss {:.04f}, Learning Rate {:.16f}\".format(\n",
        "        epoch + 1,\n",
        "        epochs,\n",
        "        train_acc,\n",
        "        train_loss,\n",
        "        float(optimizer.param_groups[0]['lr'])))\n",
        "\n",
        "\n",
        "    # Validation loop\n",
        "    convnext.eval()\n",
        "    batch_bar = tqdm(total=len(val_loader), dynamic_ncols=True, position=0, leave=False, desc='Val')\n",
        "    num_correct = 0\n",
        "    total_val_loss = 0\n",
        "    for i, (x, y) in enumerate(val_loader):\n",
        "\n",
        "        x = x.cuda()\n",
        "        y = y.cuda()\n",
        "\n",
        "        with torch.no_grad():\n",
        "          with torch.cuda.amp.autocast(): \n",
        "            outputs = convnext(x)\n",
        "            valid_loss = criterion(outputs, y)\n",
        "\n",
        "        num_correct += int((torch.argmax(outputs, axis=1) == y).sum())\n",
        "        total_val_loss += float(valid_loss)\n",
        "        \n",
        "        batch_bar.set_postfix(acc=\"{:.04f}%\".format(100 * num_correct / ((i + 1) * batch_size)))\n",
        "        batch_bar.update()\n",
        "    batch_bar.close()\n",
        "    val = 100 * num_correct / len(val_dataset)\n",
        "    val_loss = float(total_val_loss / len(val_loader))\n",
        "    val_losses.append(val_loss)\n",
        "    val_accs.append(val)\n",
        "    print(\"Validation Accuracy: {:.04f}%\".format(val), 'Validation Loss: {:.04f}'.format(val_loss))\n",
        "\n",
        "    if val > val_max:\n",
        "      val_max = val\n",
        "      f_name = 'convnext.pt'\n",
        "      print('Saving model with validation accuracy {:.04f}%'.format(val))\n",
        "      torch.save(convnext, f_name)\n"
      ]
    },
    {
      "cell_type": "markdown",
      "metadata": {},
      "source": [
        "# Plot the training and validation loss"
      ]
    },
    {
      "cell_type": "code",
      "execution_count": 11,
      "metadata": {},
      "outputs": [
        {
          "data": {
            "text/plain": [
              "Text(0.5, 1.0, 'Loss vs Epoch')"
            ]
          },
          "execution_count": 11,
          "metadata": {},
          "output_type": "execute_result"
        },
        {
          "data": {
            "image/png": "[encoded data removed]",
            "text/plain": [
              "<Figure size 640x480 with 1 Axes>"
            ]
          },
          "metadata": {},
          "output_type": "display_data"
        }
      ],
      "source": [
        "plt.plot(train_losses, label='train')\n",
        "plt.plot(val_losses, label='val')\n",
        "plt.legend()\n",
        "plt.xlabel('Epoch')\n",
        "plt.ylabel('Loss')\n",
        "plt.title('Loss vs Epoch')"
      ]
    },
    {
      "cell_type": "markdown",
      "metadata": {},
      "source": [
        "# Plot the training and validation accuracy"
      ]
    },
    {
      "cell_type": "code",
      "execution_count": 12,
      "metadata": {},
      "outputs": [
        {
          "data": {
            "text/plain": [
              "Text(0.5, 1.0, 'Accuracy vs Epoch')"
            ]
          },
          "execution_count": 12,
          "metadata": {},
          "output_type": "execute_result"
        },
        {
          "data": {
            "image/png": "[encoded data removed]",
            "text/plain": [
              "<Figure size 640x480 with 1 Axes>"
            ]
          },
          "metadata": {},
          "output_type": "display_data"
        }
      ],
      "source": [
        "plt.plot(train_accs, label='train')\n",
        "plt.plot(val_accs, label='val')\n",
        "plt.legend()\n",
        "plt.xlabel('Epoch')\n",
        "plt.ylabel('Accuracy')\n",
        "plt.title('Accuracy vs Epoch')"
      ]
    },
    {
      "cell_type": "markdown",
      "metadata": {
        "id": "AKb2iD_9gdpX"
      },
      "source": [
        "# Classification Task: Validation"
      ]
    },
    {
      "cell_type": "code",
      "execution_count": 64,
      "metadata": {
        "id": "77zPhwzfyibz"
      },
      "outputs": [
        {
          "data": {
            "text/plain": [
              "<All keys matched successfully>"
            ]
          },
          "execution_count": 64,
          "metadata": {},
          "output_type": "execute_result"
        }
      ],
      "source": [
        "convnext.load_state_dict(torch.load('convnext.pt', map_location=torch.device(device=device)).state_dict())"
      ]
    },
    {
      "cell_type": "code",
      "execution_count": 14,
      "metadata": {
        "colab": {
          "base_uri": "https://localhost:8080/"
        },
        "id": "le1o-OVjfeN9",
        "outputId": "697b9a9a-d465-4a5a-8dad-ee542c2b37a8"
      },
      "outputs": [
        {
          "name": "stderr",
          "output_type": "stream",
          "text": [
            "                                                                   "
          ]
        },
        {
          "name": "stdout",
          "output_type": "stream",
          "text": [
            "Validation Accuracy: 94.7654%\n"
          ]
        },
        {
          "name": "stderr",
          "output_type": "stream",
          "text": [
            "\r"
          ]
        }
      ],
      "source": [
        "convnext.eval()\n",
        "batch_bar = tqdm(total=len(val_loader), dynamic_ncols=True, position=0, leave=False, desc='Val')\n",
        "num_correct = 0\n",
        "for i, (x, y) in enumerate(val_loader):\n",
        "\n",
        "    x = x.cuda()\n",
        "    y = y.cuda()\n",
        "\n",
        "    with torch.no_grad():\n",
        "      with torch.cuda.amp.autocast():\n",
        "        outputs = convnext(x)\n",
        "\n",
        "    num_correct += int((torch.argmax(outputs, axis=1) == y).sum())\n",
        "    batch_bar.set_postfix(acc=\"{:.04f}%\".format(100 * num_correct / ((i + 1) * batch_size)))\n",
        "\n",
        "    batch_bar.update()\n",
        "    \n",
        "batch_bar.close()\n",
        "print(\"Validation Accuracy: {:.04f}%\".format(100 * num_correct / len(val_dataset)))"
      ]
    },
    {
      "cell_type": "markdown",
      "metadata": {
        "id": "UpgCHImRkYQW"
      },
      "source": [
        "# Classification Task: Test"
      ]
    },
    {
      "cell_type": "code",
      "execution_count": 25,
      "metadata": {
        "id": "08Zv2AWFrfVP"
      },
      "outputs": [],
      "source": [
        "class ClassificationTestSet(Dataset):\n",
        "    # It's possible to load test set data using ImageFolder without making a custom class.\n",
        "    # See if you can think it through!\n",
        "\n",
        "    def __init__(self, data_dir, transforms):\n",
        "        ''''\n",
        "        Args:\n",
        "            data_dir: Path to the directory containing the test set images\n",
        "            transforms: PyTorch transforms to apply to the images\n",
        "        '''\n",
        "        self.data_dir = data_dir\n",
        "        self.transforms = transforms\n",
        "\n",
        "        # This one-liner basically generates a sorted list of full paths to each image in data_dir\n",
        "        self.img_paths = list(map(lambda fname: osp.join(self.data_dir, fname), sorted(os.listdir(self.data_dir))))\n",
        "\n",
        "    def __len__(self):\n",
        "        return len(self.img_paths)\n",
        "    \n",
        "    def __getitem__(self, idx):\n",
        "        return self.transforms(Image.open(self.img_paths[idx])), self.img_paths[idx].split('/')[-1]"
      ]
    },
    {
      "cell_type": "code",
      "execution_count": 26,
      "metadata": {
        "colab": {
          "base_uri": "https://localhost:8080/"
        },
        "id": "td_qvGwr16z0",
        "outputId": "05662d75-f8ed-4b03-aefe-1bad182d2769"
      },
      "outputs": [
        {
          "name": "stdout",
          "output_type": "stream",
          "text": [
            "Test set size: 2025\n"
          ]
        }
      ],
      "source": [
        "# Test dataset and dataloader classes\n",
        "test_dataset = ClassificationTestSet(TEST_DIR, ttf.Compose(val_transforms))\n",
        "test_loader = DataLoader(test_dataset, batch_size=batch_size, shuffle=False,\n",
        "                         drop_last=False, num_workers=4, pin_memory=True)\n",
        "print('Test set size:', len(test_dataset))"
      ]
    },
    {
      "cell_type": "code",
      "execution_count": 55,
      "metadata": {
        "colab": {
          "base_uri": "https://localhost:8080/"
        },
        "id": "U2WQEUjXkWvo",
        "outputId": "7d7d0428-1388-4480-bf33-cb313b03c914"
      },
      "outputs": [
        {
          "name": "stderr",
          "output_type": "stream",
          "text": [
            "                                                     \r"
          ]
        }
      ],
      "source": [
        "convnext.eval()\n",
        "batch_bar = tqdm(total=len(test_loader), dynamic_ncols=True, position=0, leave=False, desc='Test')\n",
        "\n",
        "res = []\n",
        "for x, file_name in test_loader:\n",
        "\n",
        "    x = x.cuda()\n",
        "    with torch.no_grad():\n",
        "        with torch.cuda.amp.autocast():\n",
        "            outputs = convnext(x)\n",
        "        y_hat = torch.argmax(outputs, axis=1)\n",
        "        res.extend(list(zip(file_name, y_hat.cpu().numpy())))\n",
        "    \n",
        "    batch_bar.update()\n",
        "    \n",
        "batch_bar.close()"
      ]
    },
    {
      "cell_type": "code",
      "execution_count": 56,
      "metadata": {},
      "outputs": [
        {
          "name": "stdout",
          "output_type": "stream",
          "text": [
            "Length of test set predictions: 2025\n"
          ]
        }
      ],
      "source": [
        "# map the labels to the classes\n",
        "res = list(map(lambda x: (x[0], idx_to_class[x[1]]), res))\n",
        "print('Length of test set predictions:', len(res))"
      ]
    },
    {
      "cell_type": "code",
      "execution_count": 57,
      "metadata": {},
      "outputs": [
        {
          "name": "stdout",
          "output_type": "stream",
          "text": [
            "           file_name predicted_class\n",
            "0     frame10002.png   3.5 mm x22 mm\n",
            "1     frame10006.png   3.5 mm x22 mm\n",
            "2     frame10014.png   3.5 mm x22 mm\n",
            "3     frame10016.png   3.5 mm x22 mm\n",
            "4     frame10022.png   3.5 mm x22 mm\n",
            "...              ...             ...\n",
            "2020   frame9976.png   3.5 mm x22 mm\n",
            "2021   frame9980.png   3.5 mm x22 mm\n",
            "2022   frame9992.png   3.5 mm x22 mm\n",
            "2023   frame9996.png   3.5 mm x22 mm\n",
            "2024   frame9998.png   3.5 mm x22 mm\n",
            "\n",
            "[2025 rows x 2 columns]\n"
          ]
        }
      ],
      "source": [
        "# convert to a dataframe and print the file name and the predicted class\n",
        "df = pd.DataFrame(res, columns=['file_name', 'predicted_class'])\n",
        "print(df)"
      ]
    },
    {
      "cell_type": "code",
      "execution_count": 58,
      "metadata": {},
      "outputs": [
        {
          "name": "stdout",
          "output_type": "stream",
          "text": [
            "Predicted class: Number of images\n",
            "2.0 mm x26 mm    282\n",
            "4.2 mm x30 mm    219\n",
            "2.0 mm x28 mm    219\n",
            "3.5 mm x22 mm    218\n",
            "3.5 mm x19 mm    218\n",
            "4.2 mm x22 mm    218\n",
            "2.8 mm x22 mm    218\n",
            "3.5 mm x30 mm    217\n",
            "3.5 mm x28 mm    216\n",
            "Name: predicted_class, dtype: int64\n"
          ]
        }
      ],
      "source": [
        "#print the number of images in each class\n",
        "print('Predicted class:', 'Number of images')\n",
        "print(df['predicted_class'].value_counts())"
      ]
    },
    {
      "cell_type": "code",
      "execution_count": 59,
      "metadata": {},
      "outputs": [
        {
          "data": {
            "text/plain": [
              "<AxesSubplot:>"
            ]
          },
          "execution_count": 59,
          "metadata": {},
          "output_type": "execute_result"
        },
        {
          "data": {
            "image/png": "[encoded data removed]",
            "text/plain": [
              "<Figure size 640x480 with 1 Axes>"
            ]
          },
          "metadata": {},
          "output_type": "display_data"
        }
      ],
      "source": [
        "#plot the number of images in each class\n",
        "df['predicted_class'].value_counts().plot(kind='bar')"
      ]
    },
    {
      "cell_type": "markdown",
      "metadata": {},
      "source": [
        "# Discussion\n",
        "This distribution looks very similar to the distribution of the training data and the validation data from which the test data was sampled. This means that the model is and rest of the system is working as expected."
      ]
    },
    {
      "cell_type": "code",
      "execution_count": 60,
      "metadata": {},
      "outputs": [],
      "source": [
        "# save the dataframe to a csv file\n",
        "df.to_csv('convnext_predictions.csv', index=False)"
      ]
    },
    {
      "cell_type": "markdown",
      "metadata": {},
      "source": [
        "# MobileNetV3 and ConvNeXt Ensemble"
      ]
    },
    {
      "cell_type": "code",
      "execution_count": 61,
      "metadata": {},
      "outputs": [],
      "source": [
        "mobilenet = torchvision.models.mobilenet_v3_small(weights='IMAGENET1K_V1')\n",
        "mobilenet.classifier = nn.Sequential(\n",
        "    nn.Dropout(0.2),\n",
        "    nn.Linear(576, numb_classes)\n",
        ")"
      ]
    },
    {
      "cell_type": "code",
      "execution_count": 62,
      "metadata": {},
      "outputs": [
        {
          "data": {
            "text/plain": [
              "<All keys matched successfully>"
            ]
          },
          "execution_count": 62,
          "metadata": {},
          "output_type": "execute_result"
        }
      ],
      "source": [
        "convnext.load_state_dict(torch.load('convnext.pt', map_location=torch.device(device=device)).state_dict())\n",
        "mobilenet.load_state_dict(torch.load('mobilenet.pt', map_location=torch.device(device=device)).state_dict())"
      ]
    },
    {
      "cell_type": "code",
      "execution_count": 67,
      "metadata": {},
      "outputs": [
        {
          "name": "stdout",
          "output_type": "stream",
          "text": [
            "Model loaded\n"
          ]
        }
      ],
      "source": [
        "mobilenet.to(device)\n",
        "convnext.to(device)\n",
        "print('Model loaded')"
      ]
    },
    {
      "cell_type": "code",
      "execution_count": 73,
      "metadata": {},
      "outputs": [
        {
          "name": "stderr",
          "output_type": "stream",
          "text": [
            "                                                                   "
          ]
        },
        {
          "name": "stdout",
          "output_type": "stream",
          "text": [
            "Validation Accuracy: 94.8148%\n"
          ]
        },
        {
          "name": "stderr",
          "output_type": "stream",
          "text": [
            "\r"
          ]
        }
      ],
      "source": [
        "mobilenet.eval()\n",
        "convnext.eval()\n",
        "batch_bar = tqdm(total=len(val_loader), dynamic_ncols=True, position=0, leave=False, desc='Val')\n",
        "num_correct = 0\n",
        "for i, (x, y) in enumerate(val_loader):\n",
        "\n",
        "    x = x.to(device)\n",
        "    y = y.to(device)\n",
        "\n",
        "    with torch.no_grad():\n",
        "      with torch.cuda.amp.autocast():\n",
        "        outputs = mobilenet(x) + convnext(x) \n",
        "\n",
        "    num_correct += int((torch.argmax(outputs, axis=1) == y).sum())\n",
        "    batch_bar.set_postfix(acc=\"{:.04f}%\".format(100 * num_correct / ((i + 1) * batch_size)))\n",
        "\n",
        "    batch_bar.update()\n",
        "    \n",
        "batch_bar.close()\n",
        "print(\"Validation Accuracy: {:.04f}%\".format(100 * num_correct / len(val_dataset)))"
      ]
    }
  ],
  "metadata": {
    "accelerator": "GPU",
    "colab": {
      "collapsed_sections": [],
      "name": "HW2P2_2.ipynb",
      "provenance": []
    },
    "kernelspec": {
      "display_name": "Python 3.9.13 ('pytorch')",
      "language": "python",
      "name": "python3"
    },
    "language_info": {
      "codemirror_mode": {
        "name": "ipython",
        "version": 3
      },
      "file_extension": ".py",
      "mimetype": "text/x-python",
      "name": "python",
      "nbconvert_exporter": "python",
      "pygments_lexer": "ipython3",
      "version": "3.9.13"
    },
    "vscode": {
      "interpreter": {
        "hash": "2d58e898dde0263bc564c6968b04150abacfd33eed9b19aaa8e45c040360e146"
      }
    }
  },
  "nbformat": 4,
  "nbformat_minor": 0
}
